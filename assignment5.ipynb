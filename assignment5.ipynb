{
 "cells": [
  {
   "cell_type": "markdown",
   "metadata": {
    "collapsed": true
   },
   "source": [
    "# Assignment for week 8\n",
    "\n",
    "Use the following table to provide us with\n",
    "\n",
    "|name | exam number|\n",
    "|----|----|\n",
    "|jiemin yu| u1271305 234942|\n",
    "|other group member's name| exam number|"
   ]
  },
  {
   "cell_type": "markdown",
   "metadata": {},
   "source": [
    "In this assignment you will have to make a plot of the mortality due to \"Ischemic heart diseases (IHD)\". IHD are caused by the\n",
    "accumulation of fatty deposits lining the inner wall of a coronary artery, restricting blood flow to the heart. IHD alone\n",
    "were responsible for 644 000 deaths across EU countries in 2013, accounting for around 13% of all deaths. Mortality\n",
    "rates from IHD are highest in Lithuania, Latvia, the Slovak Republic, Hungary and the Czech Republic, with over 350 deaths per 100 000 population. The countries with the lowest IHD mortality rates are France, Portugal, the\n",
    "Netherlands, Spain and Belgium. Our plot is taken from http://www.oecd-ilibrary.org/docserver/download/8116231e.pdf?expires=1486219843&id=id&accname=guest&checksum=F326409CF6DCD4DC61990871F943B489 page 63. I have downloaded the data for you and saved it as a csv: mrate.csv.\n",
    "First read the data with the command read.csv2\n",
    "\n",
    "If you encounter the problem that all observations per row are in one cell, add: ,sep=\";\"\n",
    "The command should look like \n",
    "namedf <-read.csv2(\"name of file\", sep=\";\")"
   ]
  },
  {
   "cell_type": "code",
   "execution_count": 1,
   "metadata": {
    "collapsed": false
   },
   "outputs": [],
   "source": [
    "s <-read.csv2(\"mrate.csv\", sep=\";\")\n"
   ]
  },
  {
   "cell_type": "markdown",
   "metadata": {},
   "source": [
    "Please have a look at the structure of data with the command str()"
   ]
  },
  {
   "cell_type": "code",
   "execution_count": 2,
   "metadata": {
    "collapsed": false
   },
   "outputs": [
    {
     "name": "stdout",
     "output_type": "stream",
     "text": [
      "'data.frame':\t14 obs. of  7 variables:\n",
      " $ Year          : int  2000 2001 2002 2003 2004 2005 2006 2007 2008 2009 ...\n",
      " $ Netherlands   : num  158 149 141 135 121 ...\n",
      " $ Hungary       : num  417 419 414 440 442 ...\n",
      " $ France        : num  94.3 90.7 88 87.1 80.1 77.4 71.2 67.6 64.8 61.2 ...\n",
      " $ Lithuania     : num  612 677 666 656 642 ...\n",
      " $ United.Kingdom: num  259 250 241 232 213 ...\n",
      " $ EU28          : num  221 214 206 205 192 ...\n"
     ]
    }
   ],
   "source": [
    "str(s)"
   ]
  },
  {
   "cell_type": "markdown",
   "metadata": {},
   "source": [
    "Since the data are in the \"wide\" format, we need to make it in the long format with the package \"tidyr\". For the graph we need the package ggplot2."
   ]
  },
  {
   "cell_type": "markdown",
   "metadata": {},
   "source": [
    "Load the libraries ggplot2 and tidyr with the command library()"
   ]
  },
  {
   "cell_type": "code",
   "execution_count": 4,
   "metadata": {
    "collapsed": false
   },
   "outputs": [],
   "source": [
    "library(tidyr)\n",
    "library(ggplot2)\n",
    "library(dplyr)\n"
   ]
  },
  {
   "cell_type": "markdown",
   "metadata": {},
   "source": [
    "Now we have the most difficult part of the assignment. We need to make a new object and than convert the data in the long format with the command \"gather\".\n",
    "\n",
    "\n",
    "The command should look like\n",
    "\n",
    "\n",
    "new object <- gather(name dataframe, name of the new colum, name of the value, column:column)\n",
    "\n",
    "* For new object you can use for example p.\n",
    "* The name of our dataframe was s\n",
    "* The name of the new column could be Country (since we want the countries to be the observations). Country is a new name.\n",
    "* The name of the value could be mortality (since the numbers are Age-standardised mortality rates per 100 000 population)\n",
    "* We need the colums from the Netherlands until EU28 (so you have to fill in Netherlands:EU28)."
   ]
  },
  {
   "cell_type": "code",
   "execution_count": 5,
   "metadata": {
    "collapsed": false
   },
   "outputs": [],
   "source": [
    "p <- gather(s, Country, mortality, Netherlands:EU28)\n"
   ]
  },
  {
   "cell_type": "markdown",
   "metadata": {},
   "source": [
    "Now we can make the plot with geom_line of ggplot.\n",
    "The syntax of the command would be:\n",
    "\n",
    "ggplot(name of dataframe, aes(x=x-axis, y=y-axis, color=Group)) + geom_line()\n",
    "\n",
    "* name of dataframe is p if you followed the instructions above (the long format)\n",
    "* on the x-axis you will need Year\n",
    "* on the y-axis you will need mortality\n",
    "* for color you need Country (so we have one line per country)"
   ]
  },
  {
   "cell_type": "code",
   "execution_count": 6,
   "metadata": {
    "collapsed": false
   },
   "outputs": [
    {
     "data": {},
     "metadata": {},
     "output_type": "display_data"
    },
    {
     "data": {
      "image/png": "[encoded data removed]",
      "text/plain": [
       "plot without title"
      ]
     },
     "metadata": {},
     "output_type": "display_data"
    }
   ],
   "source": [
    "ggplot(p, aes(x=Year, y=mortality, color=Country)) + geom_line()"
   ]
  },
  {
   "cell_type": "code",
   "execution_count": null,
   "metadata": {
    "collapsed": true
   },
   "outputs": [],
   "source": []
  }
 ],
 "metadata": {
  "anaconda-cloud": {},
  "kernelspec": {
   "display_name": "R",
   "language": "R",
   "name": "ir"
  },
  "language_info": {
   "codemirror_mode": "r",
   "file_extension": ".r",
   "mimetype": "text/x-r-source",
   "name": "R",
   "pygments_lexer": "r",
   "version": "3.3.2"
  }
 },
 "nbformat": 4,
 "nbformat_minor": 1
}
